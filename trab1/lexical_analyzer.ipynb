{
  "nbformat": 4,
  "nbformat_minor": 0,
  "metadata": {
    "colab": {
      "name": "lexical_analyzer.ipynb",
      "provenance": [],
      "collapsed_sections": []
    },
    "kernelspec": {
      "name": "python3",
      "display_name": "Python 3"
    },
    "language_info": {
      "name": "python"
    }
  },
  "cells": [
    {
      "cell_type": "markdown",
      "source": [
        "# Trabalho 01 | Linguagens Formais | 2022.1\n",
        "## Grupo: Antônio Alves (119165931), Gabriele Jandres (119159948) e Victor Cardoso (119157174)\n",
        "\n",
        "---\n",
        "\n",
        "\n"
      ],
      "metadata": {
        "id": "UQAAD-hu_J1S"
      }
    },
    {
      "cell_type": "markdown",
      "source": [
        "## 📍 Importações e definição de macros \n"
      ],
      "metadata": {
        "id": "ab10neYG_UoY"
      }
    },
    {
      "cell_type": "code",
      "source": [
        "import string\n",
        "\n",
        "ERR = -1"
      ],
      "metadata": {
        "id": "REnqJs8x9tYR"
      },
      "execution_count": null,
      "outputs": []
    },
    {
      "cell_type": "markdown",
      "source": [
        ""
      ],
      "metadata": {
        "id": "dR3SFKimbrRk"
      }
    },
    {
      "cell_type": "markdown",
      "source": [
        "## 📍 Funções \n"
      ],
      "metadata": {
        "id": "8QLJ64lq9Q6O"
      }
    },
    {
      "cell_type": "code",
      "execution_count": null,
      "metadata": {
        "id": "cxejQ9Lek8e9"
      },
      "outputs": [],
      "source": [
        "\"\"\"\n",
        "  * Descricao: Obtem um alfabeto de entrada de um automato\n",
        "  * Parametros: -\n",
        "  * Retorno: O alfabeto\n",
        "\"\"\"\n",
        "def get_alphabet():\n",
        "  alphabet = []\n",
        "  print(\"\\n********* ALFABETO *********\")\n",
        "  print(\"Digite todos os caracteres do alfabeto, um por linha: (digite caractere + enter). Digite PARAR quando terminar.\")\n",
        "  proceed = True\n",
        "\n",
        "  while proceed:\n",
        "    char = input()\n",
        "    if char.upper() == \"PARAR\":\n",
        "      proceed = False\n",
        "    else: \n",
        "      alphabet.append(char)\n",
        "\n",
        "  return alphabet\n",
        "\n",
        "\n",
        "\"\"\"\n",
        "  * Descricao: Obtem o estado inicial de um automato\n",
        "  * Parametros: -\n",
        "  * Retorno: O estado inicial\n",
        "\"\"\"\n",
        "def get_initial_state():\n",
        "  print(\"\\n********* ESTADO INICIAL *********\")\n",
        "  return int(input(\"Digite o estado inicial: \\n\"))\n",
        "\n",
        "\n",
        "\"\"\"\n",
        "  * Descricao: Obtem o conjunto de estados finais de um automato\n",
        "  * Parametros: -\n",
        "  * Retorno: O conjunto de estados finais\n",
        "\"\"\"\n",
        "def get_final_states():\n",
        "  final_states = []\n",
        "  print(\"\\n********* CONJUNTO DE ESTADOS FINAIS *********\")\n",
        "  print(\"Digite todos os estados finais do automato, um por linha: (digite numero do estado + enter). Digite PARAR quando terminar.\")\n",
        "  proceed = True\n",
        "\n",
        "  while proceed:\n",
        "    state = input()\n",
        "    if state.upper() == \"PARAR\":\n",
        "      proceed = False\n",
        "    else: \n",
        "      final_states.append(int(state))\n",
        "\n",
        "  return final_states\n",
        "\n",
        "\n",
        "\"\"\"\n",
        "  * Descricao: Obtem os estados de um automato\n",
        "  * Parametros: -\n",
        "  * Retorno: O conjunto de estados\n",
        "\"\"\"\n",
        "def get_states():\n",
        "  states = []\n",
        "  print(\"\\n********* CONJUNTO DE ESTADOS *********\")\n",
        "  print(\"Digite todos os estados do automato, um por linha: (digite numero do estado + enter). Digite PARAR quando terminar.\")\n",
        "  proceed = True\n",
        "\n",
        "  while proceed:\n",
        "      state = input()\n",
        "      if state.upper() == \"PARAR\":\n",
        "        proceed = False\n",
        "      else: \n",
        "        states.append(int(state))\n",
        "\n",
        "  return states\n",
        "\n",
        "\n",
        "\"\"\"\n",
        "  * Descricao: Obtem a tabela de transicao de um automato\n",
        "  * Parametros: -\n",
        "  * Retorno: A tabela de transicoes\n",
        "\"\"\"\n",
        "def get_delta(states, alphabet):\n",
        "  delta = {}\n",
        "\n",
        "  # Inicializa todas as transicoes com default ERR\n",
        "  for state in states:\n",
        "    for char in alphabet:\n",
        "      delta[(state, char)] = ERR\n",
        "\n",
        "  proceed = True\n",
        "  print(\"\\ns********* TRANSIÇÕES *********\")\n",
        "\n",
        "  while proceed:\n",
        "    state = int(input(\"\\nDigite o estado de origem: \"))\n",
        "    char = input(\"Digite o caractere de entrada: \")\n",
        "    final_state = int(input(\"Digite o estado de destino: \"))\n",
        "    delta[(state, char)] = final_state\n",
        "\n",
        "    choice = input(\"Deseja continuar inserindo? \\nS - Sim \\nN - Nao\\n\")\n",
        "    if choice.upper() == 'N':\n",
        "      proceed = False\n",
        "  \n",
        "  return delta\n",
        "\n",
        "\n",
        "\"\"\"\n",
        "  * Descricao: Realiza a transicao de um estado para o outro no automato\n",
        "  * Parametros: A tabela de transicoes, o estado de origem e o caractere de entrada\n",
        "  * Retorno: O estado de destino da transicao\n",
        "\"\"\"\n",
        "def transition_to_state(delta, state, char):\n",
        "  return delta.get((state, char))\n",
        "\n",
        "\n",
        "\"\"\"\n",
        "  * Descricao: Obtem um caractere de uma palavra de entrada e atualiza a palavra removendo o primeiro caractere ja lido\n",
        "  * Parametros: A palavra de entrada\n",
        "  * Retorno: O caractere a ser processado e o restante da palavra de entrada\n",
        "\"\"\"\n",
        "def get_char(word):\n",
        "  return word[0], word[1:]\n",
        "\n",
        "\n",
        "\"\"\"\n",
        "  * Descricao: Retorna o caractere removido do lexema a palavra de entrada\n",
        "  * Parametros: Palavra de entrada e o lexema\n",
        "  * Retorno: A palavra de entrada atualizada\n",
        "\"\"\"\n",
        "def back_char_to_entry(word, lexem):\n",
        "  word = lexem[-1]\n",
        "  return word\n",
        "\n",
        "\n",
        "\"\"\"\n",
        "  * Descricao: Remove o ultimo caractere do lexema\n",
        "  * Parametros: O lexema\n",
        "  * Retorno: O lexema atualizado\n",
        "\"\"\"\n",
        "def truncate_last_char(lexem):\n",
        "  return lexem[:-1]\n",
        "\n",
        "\n",
        "\"\"\"\n",
        "  * Descricao: Realiza a analise lexica de uma palavra\n",
        "  * Parametros: A palavra, o estado inicial, conjunto de estados finais e a tabela de transicoes de um automato\n",
        "  * Retorno: Uma tupla (\"Valida\", lexema), se a palavra for aceita, ou \"Invalida\", caso contrario\n",
        "\"\"\"\n",
        "def lexical_analyzer(word, initial_state, final_states, table):\n",
        "  state = initial_state\n",
        "  lexem = \"\"\n",
        "  stack = []\n",
        "  while len(word) != 0 and state != ERR:\n",
        "    char, word = get_char(word)\n",
        "    lexem += char\n",
        "    if state in final_states:\n",
        "      stack.clear()\n",
        "    stack.append(state)\n",
        "    state = transition_to_state(table, state, char)\n",
        "\n",
        "  while state not in final_states and len(stack) != 0:\n",
        "    state = stack.pop()\n",
        "    word = back_char_to_entry(word, lexem)\n",
        "    lexem = truncate_last_char(lexem)\n",
        "\n",
        "  if state in final_states: \n",
        "    return (\"Valida\", f'Lexema: {lexem}')\n",
        "  else:\n",
        "    return \"Invalida\"\n",
        "\n",
        "\"\"\"\n",
        "  * Descricao: Realiza a analise lexica de uma palavra usando o automato dado como entrada\n",
        "  * Parametros: Uma palavra de entrada\n",
        "  * Retorno: -\n",
        "\"\"\"\n",
        "def run_automata(word):\n",
        "  alphabet = get_alphabet()\n",
        "  states = get_states()\n",
        "  initial_state = get_initial_state()\n",
        "  final_states = get_final_states()\n",
        "  delta = get_delta(states, alphabet)\n",
        "  print(lexical_analyzer(word, initial_state, final_states, delta)) "
      ]
    },
    {
      "cell_type": "markdown",
      "source": [
        "# 📍 Exemplo 1 \n"
      ],
      "metadata": {
        "id": "FUqWuisM926f"
      }
    },
    {
      "cell_type": "markdown",
      "source": [
        "**Descrição:** Linguagem contendo todos os números de telefone celular: 9 dígitos, começando com o dígito 9.\n",
        "\n",
        "**Expressão regular:** 9[0-9]{8}\n",
        "\n",
        "**Autômato:**\n",
        "\n",
        "![phone_number.png](data:image/png;base64,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)\n",
        "\n",
        "O 11º estado do autômato (sumidouro) não está representado explicitamente no código, mas todas as transições que caminham até ele vão para o estado ERR, travando o autômato.\n"
      ],
      "metadata": {
        "id": "Bl2DX1i7-Gdf"
      }
    },
    {
      "cell_type": "code",
      "source": [
        "\"\"\"\n",
        "  * Descricao: Realiza a analise lexica de uma palavra usando o automato que reconhece a linguagem dos numeros de telefone com 9 digitos, começando por 9\n",
        "  * Parametros: Uma palavra de entrada\n",
        "  * Retorno: -\n",
        "\"\"\"\n",
        "def run_phone_number_example(word):\n",
        "  alphabet = ['0', '1', '2', '3', '4', '5', '6', '7', '9']\n",
        "  initial_state = 1\n",
        "  final_states = [10]\n",
        "  delta = {(1, '0'): ERR, (1, '1'): ERR, (1, '2'): ERR, (1, '3'): ERR, (1, '4'): ERR, (1, '5'): ERR, (1, '6'): ERR, (1, '7'): ERR, (1, '8'): ERR, (1, '9'): 2,\n",
        "           (2, '0'): 3, (2, '1'): 3, (2, '2'): 3, (2, '3'): 3, (2, '4'): 3, (2, '5'): 3, (2, '6'): 3, (2, '7'): 3, (2, '8'): 3, (2, '9'): 3, \n",
        "           (3, '0'): 4, (3, '1'): 4, (3, '2'): 4, (3, '3'): 4, (3, '4'): 4, (3, '5'): 4, (3, '6'): 4, (3, '7'): 4, (3, '8'): 4, (3, '9'): 4,\n",
        "           (4, '0'): 5, (4, '1'): 5, (4, '2'): 5, (4, '3'): 5, (4, '4'): 5, (4, '5'): 5, (4, '6'): 5, (4, '7'): 5, (4, '8'): 5, (4, '9'): 5, \n",
        "           (5, '0'): 6, (5, '1'): 6, (5, '2'): 6, (5, '3'): 6, (5, '4'): 6, (5, '5'): 6, (5, '6'): 6, (5, '7'): 6, (5, '8'): 6, (5, '9'): 6,\n",
        "           (6, '0'): 7, (6, '1'): 7, (6, '2'): 7, (6, '3'): 7, (6, '4'): 7, (6, '5'): 7, (6, '6'): 7, (6, '7'): 7, (6, '8'): 7, (6, '9'): 7,\n",
        "           (7, '0'): 8, (7, '1'): 8, (7, '2'): 8, (7, '3'): 8, (7, '4'): 8, (7, '5'): 8, (7, '6'): 8, (7, '7'): 8, (7, '8'): 8, (7, '9'): 8,\n",
        "           (8, '0'): 9, (8, '1'): 9, (8, '2'): 9, (8, '3'): 9, (8, '4'): 9, (8, '5'): 9, (8, '6'): 9, (8, '7'): 9, (8, '8'): 9, (8, '9'): 9,\n",
        "           (9, '0'): 10, (9, '1'): 10, (9, '2'): 10, (9, '3'): 10, (9, '4'): 10, (9, '5'): 10, (9, '6'): 10, (9, '7'): 10, (9, '8'): 10, (9, '9'): 10,\n",
        "           (10, '0'): ERR, (10, '1'): ERR, (10, '2'): ERR, (10, '3'): ERR, (10, '4'): ERR, (10, '5'): ERR, (10, '6'): ERR, (10, '7'): ERR, (10, '8'): ERR, (10, '9'): ERR\n",
        "          }\n",
        "  print(lexical_analyzer(word, initial_state, final_states, delta))"
      ],
      "metadata": {
        "id": "LFQipoGm-AlY"
      },
      "execution_count": null,
      "outputs": []
    },
    {
      "cell_type": "markdown",
      "source": [
        "# 📍 Exemplo 2\n"
      ],
      "metadata": {
        "id": "sWKBlIfU-ntC"
      }
    },
    {
      "cell_type": "markdown",
      "source": [
        "**Descrição:** Linguagem contendo todas as senhas com 6 a 8 letras maiúsculas e/ou minúsculas.\n",
        "\n",
        "**Expressão regular:** ^[a-z|A-Z]{6,8}$\n",
        "\n",
        "**Autômato:**\n",
        "\n",
        "![password.png](data:image/png;base64,iVBORw0KGgoAAAANSUhEUgAABGgAAAIWCAIAAACEECzsAAAAA3NCSVQICAjb4U/gAAAAGXRFWHRTb2Z0d2FyZQBnbm9tZS1zY3JlZW5zaG907wO/PgAAIABJREFUeJzt3V9sXHWCJ/pfjE1wQsUG+u52PMFxdiX3lWjAM2Gkhkm2C81cabpxuul778MNeYB+GHsmL0AzEs1THOmq03OF+fPQ7I1fBqRNsvswIqhMq0eanRSTzLDSptTu0C0ttVzimLQN05iUqSQm2Nj34ZBqYzs5+VNVp1zn8xEPuBzX+ZW/5XPO95zfObVucXExAAAAcGUtSQ8AAACg0SlOAAAAMRQnAACAGIoTAABADMUJAAAghuIEAAAQQ3ECAACIoTgBAADEUJwAAABiKE4AAAAxFCcAAIAYihMAAEAMxQkAACCG4gQAABBDcQIAAIihOAEAAMRQnAAAAGIoTgAAADEUJwAAgBiKEwAAQAzFCQAAIIbiBAAAEENxAgAAiKE4AQAAxFCcAAAAYihOAAAAMRQnAACAGIoTAABADMUJAAAghuIEAAAQQ3ECAACIoTgBAADEUJwAAABiKE4AAAAxFCcAAIAYihMAAEAMxQkAACCG4gQAABBDcQIAAIihOAEAAMRQnAAAAGIoTgAAADEUJwAAgBiKEwAAQAzFCQAAIIbiBAAAEENxAgAAiKE4AQAAxFCcAAAAYihOAAAAMRQnAACAGIoTAABADMUJAAAghuIEAAAQQ3ECAACIoTgBAADEUJwAAABiKE4AAAAxFCcAAIAYihMAAEAMxQkAACCG4gQAABBDcQIAAIihOAEAAMRQnAAAAGIoTgAAADEUJwAAgBiKEwAAQAzFCQAAIIbiBAAAEENxAgAAiKE4AQAAxFCcAAAAYihOAAAAMRQnAACAGIoTAABADMUJAAAghuIEAAAQQ3ECAACIoTgBAADEUJwAAABiKE4AAAAxFCcAAIAYihMAAEAMxQkAACCG4gQAABBDcQIAAIihOAEAAMRQnAAAAGIoTgAAADEUJwAAgBiKEwAAQAzFCQAAIIbiBAAAEENxAgAAiKE4AQAAxFCcAAAAYihOAAAAMRQnAACAGIoTAABADMUJAAAghuIEAAAQQ3ECAACIoTgBAADEUJwAAABiKE4AAAAxFCcAAIAYihMAAEAMxQkAACCG4gQAABBDcQIAAIihOAEAAMRQnAAAAGIoTgAAADEUJwAAgBiKEwAAQAzFCQAAIIbiBAAAEENxAgAAiKE4AQAAxFCcAAAAYihOAAAAMRQnAACAGIoTAABADMUJAAAghuIEAAAQQ3ECAACIoTgBAADEUJwAAABiKE4AAAAxFCcAAIAYihMAAEAMxQkAACCG4gQAABBDcQIAAIihOAEAAMRQnAAAAGIoTgAAADEUJwAAgBitSQ8Ams1CaWZufOKzt47Pj0/MjZ/5fOydEMLc+ETlH7T1dLd0drR0dqzvu6+1p/vW++9rz+5IbrxUh9zTSe7pJPd0kjvrFhcXkx4DNIOF0kz5tUMXjo5eGntnoTRzvT/ent2ReWJP+7d3tvZ012J41Ijc00nu6ST3dJI7FYoT3JTK+nQ2f6LyYFvP1tuyO9bff29rz9b1ffeGEJauLufHJ74ozSyUZj4fO3XpV+98PvbOpbFTle9Ga9jM43vq+Sq4XnJPJ7mnk9zTSe6spDjBDVoozcy8/ErppVei408tnR0bH+1v//bOjY8+0tLZcb1PNZs/ceGN0QtHR6Nna+3p3vTEnszjexygajRyTye5p5Pc00nuXIniBNdt2Sq1Pbtz4/cfyTyx53rXp6sqv3po5uX/GB2jilavd+x77uaflpsn93SSezrJPZ3kToxF4HpcPHb8TM8974XMeyHz2+x3Lx47XqOl/Db73Wgp4z33XHg9V4ulcO3knk5yTye5p5PciaU4wbX64lzp46eejVZ2H/Q9VKNV6lLnX89VVuIfP/XsF+dKtV4iK8k9neSeTnJPJ7lzjUzVg2syPz4x+fB358YnWjo7Op7ce+dQ/U6vfzJ04Nz+AyGE1p7uPzj2c7Oi60nu6ST3dJJ7Osmda6c4QbzZ/IkPf7B7oTTT2tP99dePRDfSqaelq/V/87f/ceOj/XUeQDrJPZ3knk5yTye5c11uGRoaSnoM0NBmXn7lo90/XPzsUubxPZuPHmlL4oBQS2dH5ok9i5cufZY/cf6//N0td3Tc9q0/rv8wUkXu6ST3dJJ7Osmd66U4wdWc239g+sdDIYQ79j33tZd+uu6225Iaybrbbtvw538WQvjsrRMXf/EP69aF9uzOpAbT9OSeTnJPJ7mnk9y5AYoTXNHMy69U1qr1nPR8FdHK9LO3TszmTzguVSNyTye5p5Pc00nu3BjFCVZ34ejov/7wr0IjrVUjlXXrxV/8Q3t2R1vP1qRH1FTknk5yTye5p5PcuWGKE6xifnxi6jv/++JnlxptrRqprFsvvPFm5v/6P6vywXwEuaeV3NNJ7ukkd26Gu+rBcgulmbN/+Cdz4xMdT+792ks/TXo4V/SvT/xl+bXDrT3dd//yn61bb57c00nu6ST3dJI7N6kl6QFAwzm3/8Dc+ERrT3cDHota6msv/U1bT/f8+ET0KRDcJLmnk9zTSe7pJHdukjNO8BUXjr754Q92hxC2nv51438U3aWxU5MPP7JQmuk69qab8NwMuaeT3NNJ7ukkd26eM07wFdNPPxtCuGPfc42/Vg0hrO+7r+OpvSGEf/3hXy2UZpIezhom93SSezrJPZ3kzs1zcwj4vXP7D1w4+mZrT/fmo0eSHsu1as/uvPjG6Nz/+J/r2m9zUOrGyD2d5J5Ock8nuVMVzjjBl+bHJ8qvHgohfO3Fv0l6LNfnrhd/GkKYeekVB6VugNzTSe7pJPd0kjvVojjBl8qvHZobn2jP7tz46CNJj+X6tGd3tmd3LJRmSi+/kvRY1h65p5Pc00nu6SR3qsXNIeBLE9u+OTc+0XXs5+3ZHUmP5brN5o9PPvxIS2fH1tO/duvS6yL3dJJ7Osk9neROtTjjBCGEUH710Nz4xPq+e9fiWjUsOSj16WuHkh7LWiL3dJJ7Osk9neROFSlOEEII5dcOhRA6ntyb9EBu3IZH+0MIF4+OJj2QtUTu6ST3dJJ7OsmdKjJVD8L8+MSZbd9s6ezYdu6DpMdy4xZKM2e2fXOhNLPt3AfO5l8LuaeT3NNJ7ukkd6rLGScIs/njIYSNj/YnPZCb0tLZEb0EZ/OvkdzTSe7pJPd0kjvVpTjBl+fxb//+GrvZzkrt394RnM2/ZnJPJ7mnk9zTSe5Ul6l6EP6/dZtCCE1wBnyhNHP6jrvde+cayT2d5J5Ock8nuVNdzjiRdrP5EyGE9X33NsGaqKWzo21r90JpZm58IumxNDq5p5Pc00nu6SR3qk5xqqu///u//5M/+ZNnnnkm6YHwe5d+dSqEcGvffUkPpDpue3hnCGH2reNJD6TRyT2d5J5Ock8nuVN1ilNdlcvls2fPnj17NumBpNHs7Oyqv/n58YkQwq1999Z9RDURvZB5R6Quk3s6yT2d5J5OcqduWpMeANTJ9PT02NjYxYsXe3t7lz7++dipEML6+2t+RKpcLheLxUwms2wA1dXW0x0abMVaKBTK5XI2m01k6cnmXi6X8/l8JpP5xje+sXnz5totqAFzLxaL77777q5duxJZeuK5FwqFEILc6yzx9XwIoVgslsvlrq6u2kUv92USzH1qampycrLyZU038Q2YewopTqTFli1bLl68WCwWQwhL12sLpZkQQq0nQB85cmRkZKRcLvf39w8NDdVuQdEW4tLYqdot4npNTk6uW7cuqaUnmHsl9BBCJpP50Y9+VLu9igbMvVwuT01NJbX0Bsk9hLBv3z65102y6/kQQi6X279/fwhhYGBgYGCgRkuR+zIJ5j4yMpLL5Spfbt++/eDBgzVaVgPmnkKKEykSrU+XrVsXzs2EEG6p5Yo1n88PDw9v3749OghNLpd76623nn/++WWPDw4ORv8zOTk5MjJSreO1ieReLpeHh4e7uroOHjxYLpf/+q//+oUXXkjqcGyDyOVyo6OjK/cqluY+PDxcreO1yeb+/PPPZzKZwcFBuach90i5XB4ZGanpItaQlOQeHSKpvMxMJlO7ZdEIFCfSZeW6de7MRAihtae7dgvNZDLRWrWywaid1nqdyi8UCpOTk9/4xjeWbvaimWnR/2ez2SttQo4cORJCmJqaWlaNot9SLpcrFArVneWSSO4DAwO9vb3R4np7e2tam+uW+9TU1MmTJ7u6urZv37708cox16vkPjo6GkIoFArLfjbKvVAo5HK56s5ySST3gwcPVqZpbd68uaaH4eW+qkRyDyGMjIxMTU3t27cvOulUO3JfVSK5l8vlzZs39/b2FovFms7PDHXMnatQnJI0Ozv7m9/8Zm5uLumBpFGxWGxra9u2bVsdlhVtNup/uun999//6KOPqvJU99xzz6ZNmypfRgdWd+/ePTQ0NDw8vGxTcf78+SNHjjzwwAOrblCnpqYymUx/f38ulxsYGKhMEI9+S1NTU6OjoytnM3766ae/+c1vbv6F1C33TCZTmahTLBYLhUJ/f50+ur6muQ8PD/f39w8PDw8NDa3c6XnhhReuknsIYWBgIJ/Pb9++vZJ7b29vJpOZmpoaGRlpjtyjd/LQ0NDU1NTU1FTt5mstI/eV6rmen5qaOnLkyO7du7u6uuqwuAq5r1TP3KO56N/73veiU081naJJI3BXvSS1trZqTYlobW0NITT9L792VxZlMpndu3dHVTCabjE4ODg0NJTJZHbt2lUsFn/0ox9d6cDbyMhItO2MzjtNTk4WCoVKqxwZGRkYGKjRQbtEci8Wi4ODg11dXXU43xipae79/f1RWMVicWRkJMo9hBDlfpXsTp48Ge14RcehV+be39/fTLlX9hSXXjheU3Jfps65DwwMdHV1PfbYY/VZXIXcl6lz7o899tgf/dEfHTx48PDhw5s3b156fSNNyRmnJLW1tT344INJjyJ1isXi9PR0ZQ5VE9u2bVuNDrnl8/l8Pv/MM89EM1KWfjRZdG3SVe6hd/LkyWiju3nz5mgWR2UiRy6Xu/3225fN64hs2rTpJv9YEsk9l8u98MIL0VzNmk7hWKp2uRcKhdHR0X379kUXciw9sBrV4N27d1/pZ48cOZLNZguFQjRrcVnui4uLq14ItEZzD5fnIw0ODkYvfNV3dXXJfak6557L5aamprZv3x79Twgh6glyb+7cw1d/Cbt27RoZGSkWi3XInaQ440S6FIvFYrG4dK3atrWpJg1HL6TWU/m7urqmpqaGh4fffffdpY9HRyULhcLg4GDlYqelCoXCN77xjWgywzPPPLPs37zwwgvR+ZnBwcHqXhmSSO7R/bXq05rqk3tvb280e2fZvNPowSi7VXOPbsQ/cFm011UR7WpEuUfXJ1RL/XMvFAoPPPBAdHaxXC7X+tiz3FdV/9wrZalyj7WlJ1iqTu6rqn/u5XK58vceLk/Ir91czfrkztU540SKrFyrNp8vSvW4eVRvb290s7hls9t7e3tPnjx5lR9cetxx6f9Hjh07VvWhhoRyn5ycjE7HTU5OVo6t5nK5GjWo+uQelcCVuWcymavnHr1hov9fmfvSm/lWUSK5b9++PTrE/vDDD4cQyuVyb29v7Q4/y32lRHJfemVLdOSopte6yH2lRHKP+uHIyEjl73337t21O0xWn9y5OsWJtDh79uyqa9Vb//C+uTMTn4+dqsNZmug2azVdyuWPreis6VIi13jf1WRvz5pU7ktvDlFx++2312JZoVFzTzD6BP/eDx8+nMvlok9BzWazNf3oZ7kvk/h6Plxe1dd0spbcl0kw9+hCr+b7e+dKFCfS4s477+zr69uyZcuyx6P16ednJjbUeACbN2+uw812Lv3qVAjh1r57a72ga1fTDUmspHJftTjVTgPmnuyp3WT/3uv2wU1yXybx9Xyoy6pe7sv4e6duFCfSYsOGDRs2rLLy/HLFOvZO3UdUE9ELMQe6Qu7pJPd0kns6yZ26cXOIutq0adO3vvWte+65J+mB8Hvt394ZQpjNH096INXx+dipEML6++9LeiCNTu7pJPd0kns6yZ2qW7e4uJj0GCBJC6WZM9u+uVCa2Xbug5Y1fs3lQmnm9B13hxD+/eKnSY+l0ck9neSeTnJPJ7lTdc44kXYtnR3r++4NIVx4YzTpsdys2beOhxDaszuTHsgaIPd0kns6yT2d5E7VKU4QNjzaH0KYzZ9IeiA368LRN0MImcfr/dH1a5Tc00nu6ST3dJI71WWqHnx5Bryls2Pr6V+v6bP5p++4e6E0s/X0r108ei3knk5yTye5p5PcqS5nnCC0dHa0Z3cslGY+fe1Q0mO5ceVXDy2UZtqzO61Vr5Hc00nu6ST3dJI71aU4QQiXz+ZfPLqGp0HPvPxKcB7/Osk9neSeTnJPJ7lTRabqQQhL7r3TdezNtXjx5Wz+xOTD323t6d56+tdJj2UtkXs6yT2d5J5OcqeKnHGCEEJo6ezoeGpvCOHc/gNJj+VGnNv/kxBC5vE9SQ9kjZF7Osk9neSeTnKnihQn+FLnk3tbOjtm8yfW3IflXTj65mz+RGtP96YnrFivm9zTSe7pJPd0kjvVojjBlyoHpaaf/nHSY7k+008/G0LIPL7HZaM3QO7pJPd0kns6yZ1quWVoaCjpMUCjWN9334X/8nef/4//GdatmY+ZO7f/wIWjb7b2dG8+eiTpsaxVck8nuaeT3NNJ7lSFm0PAV8zmj08+/EhLZ0fXsTfX992X9HBizI9PnNn2zRDC118/svHRR5Iezhom93SSezrJPZ3kzs0zVQ++oj27s+OpvQulmQ9/8NhCaSbp4VzNQmlm8uHvhhA6ntxrrXqT5J5Ock8nuaeT3Ll5ihMsd+e+59p6uufHJz5++tmkx3I15/YfmBufaO3pvnPouaTH0gzknk5yTye5p5PcuUmKEyzX0tnRdeznLZ0d5VcPN+zdS8/tP1B66ZWWzo4/OPbzls6OpIfTDOSeTnJPJ7mnk9y5SW4OAato6ey47Vt/XH7t8Gz+xLrGu5D03P4DnwwdCCH82yN/e9u3/jjp4TQPuaeT3NNJ7ukkd26G4gSra+vZ2tLZMfv3/9Bo69bKWvWuF3/qgx2qTu7pJPd0kns6yZ0bpjjBFUUHez5760TjrFsra9U79j13x49/lPRwmpPc00nu6ST3dJI7N0Zxgqtpz+6sHJdanJm57Vt/vO622xIZyUJp5nd/9fTMS6+EEO568afWqjUl93SSezrJPZ3kzg3wOU4Q78LR0X/94V8tlGZae7r/4NjP6/8B3pfG3vnoB7vnxidaOju+/vqR9uyOOg8gneSeTnJPJ7mnk9y5Lu6qB/E2Ptp/9y//ObqH6Zlt36zzrXjO7T8w+fB3ozuT3v3Lf7ZWrRu5p5Pc00nu6SR3roupenBNWjo7Mk/sWbx06dJ/+++z+RPl1w7d2tPd9r/21nShs/kTH/1g9/n//HeLn13qeHLv1//z397y9X9b0yWyjNzTSe7pJPd0kjvXYRG4Hudfz53puee9kHkvZH6b/c7FY8drsZSLx47/NvudaCnjPffUaClcO7mnk9zTSe7pJHdiucYJbsQnQwfOv3ZobnwihLC+796Op/ZmHq/CnUMXSjPl1w5dODo6mz8RQmjp7Oh4cm/nU3t9BF6DkHs6yT2d5J5OcucqFCe4QfPjE5++eqiyem3p7Nj4aP/G7/e3Z3dc73pwoTRz4eibs2/904Wjby6UZoJVagOTezrJPZ3knk5y50oUJ7hZ5VcPlV87PJs/Xnlkfd+9t/bdt77v3lvvv6+ls+OWzo6lN+qZH58IIVwae2f+zJlLY6c+y5+IVs2R9uzOjd9/JPPEHqvUBif3dJJ7Osk9neTOMooTVMf8+MRs/viyNew1aunsWN93n/XpWiT3dJJ7Osk9neROheIE1TebP/H52Kn5MxOXxt5ZKM0slGbmxs9UvtvWszWEcGvfvW093a1bu2/L7mzr6bY+bQJyTye5p5Pc00nuKac4AQAAxPABuAAAcIPef//906dPJz0K6kFxAgCAG/TRRx99+OGHSY+CelCcAAAAYihOAAAAMRQnAACAGIoTAABADMUJAAAghuIEAAAQQ3ECAACIoTgBAADEUJwAAABiKE4AAAAxFCcAAIAYihMAAEAMxQkAACCG4gQAABBDcQIAAIihOAEAAMRQnAAAAGIoTgAAADEUJwAAgBiKEwAAQAzFCQAAIIbiBAAAEENxAgAAiKE4AQAAxFCcAAAAYihOAAAAMRQnAACAGIoTAABADMUJAAAghuIEAAAQQ3ECAACIoTgBAADEUJwAAABiKE4AAAAxFCcAAIAYihMAAEAMxQkAACCG4gQAABBj3eLiYtJjAAAAaGjOOAEAAMRQnAAAAGIoTgAAADEUJwAAgBiKEwAAQAzFCQAAbkSxWMzlckmPgjpRnAAA4EaUy+WpqamkR0GdtCY9AAAAaBK5XG50dPTgwYPLHh8cHIz+Z3Jycnh4uLe3t+5D42YpTgAA8HtTU1MnT57s6uravn370scrs/Ky2Wwmk1n1Z0dHR0MIhUJh2c9GVapQKORyOa1pjTJVDwAAvlQul4eHhzOZzPDwcLFYXPkPXnjhhfPnz6/6s9G0vYGBgXw+H31ZKBQKhUK5XI6+HBkZqZx6Ys1RnAAA4EuZTKa/v79QKIQQisViVHWGhoZCCLt27SoWiwMDA5s3b171Z0+ePBmdTYrOO01OTkbFKfruyMhIf3//lX6WxmeqHgAAfKlQKIyOju7bt29kZCSEMDAwUPnWkSNHQgi7d+++0s8eOXIkm80WCoXe3t5otl5lwl4ul1tcXNy1a1eNh08NOeMEAABf6u3tjWbrVc4URaIHi8Xi4OBgNBNvmWKxmMlkBi6LWlbFyMhI9LODg4OrzgCk8a1bXFxMegwAANBAyuXylW7/sFQ0E2/pWSmamDNOAADwFdfSmqJ/do3/kibgjBMAAEAMZ5wAAABiKE4AAAAxFCcAAIAYihMAAEAMxQkAACCG4gQAADfo7bfffvvtt5MeBfWgOAEAAMRQnAAAAGIoTgAAADEUJwAAgBiKEwAAQAzFCQAAIIbiBAAAEENxAgAAiKE4AQAAxFCcAAAAYihOAAAAMRQnAACAGIoTAABADMUJAAAghuIEAAAQQ3ECAACIoTgBAADEUJwAAABiKE4AAAAxFCcAAIAYihMAAEAMxQkAACCG4gQAABBDcQIAAIihOAEAAMRQnAAAAGIoTgAAADEUJwAAgBiKEwAAQAzFCQAAIIbiBAAAEENxAgAAiKE4AQDAtZqdnT179uyVvnv27NnZ2dl6joe6UZwAAOBaTU9Pj42NFYvFld8qFotjY2PT09P1HxV10Jr0AACawfz4xGz+xNyZM/PjZ+bHJ+bHJ0IIc+MTlX/Q0tlxS2dHa093S2fHrX33rb//vtae7vV99yY3ZKpA7ukk95TbsmXLxYsXo+LU29tbebxYLBaLxd7e3i1btiQ3Ompo3eLiYtJjAFiTFkoz5dcOzeaPz+ZPLJRmbuAZWjo72rM7Nj7a3/7tna093VUfIbUg93SSO8tUalJ0fumuu+6KvlxapWgyihPA9Yn2ny4cHZ3Nn6g82NLZ0Z7d2dbTfev997X2dLf1dIcQlu4bLZRm5sYnFkoz8+MTc2fOfJY/cWns1NLdr/bsjswTe+xRNSy5p5PcuYqoO7W2ts7Pz4cQtKampzgBXKvZ/IloFyraAYp2ntq/vWPjo/03tvczPz4xmz9+4Y03Z/PHKztVmSf23LnvObtTjUPu6SR3rkXUnYLWlA6KE0C82fyJc/t/Ujnk3J7d2fHk3vbsjpbOjmotovzqoQtvvHnh6Gj0pd2pRiD3dJI716VYLLa1tW3bti3pgVBzihPA1cyPT3z89I+j/ZuWzo6OJ/d2PrW3ivtPKxf3yf4Dn+WPRxea251KitzTSe7AVShOUGXR1PbP3jo+Pz4xN37m87F3wlfvttTW093S2dHS2bG+777Wnu5b77+vPbsjufFyNef2Hyi99MpCaSZ2F6q6uc+PT3z66qFz+w9EX9459Nwd+56r6ivjauSeTnLn6mzfUZygOioXEF8ae+cGbrjkQuFGMz8+8eEPdl8aeydc9TBwTXOPjkaXXz0UQmjt6f6DYz/39qg1uaeT3LkK23cqFCe4KavecKmtZ+tt2R3r77+3tWdr9MEdS1eX8+MTX5RmFkozn4+duvSrdz4fe+fS2KnKd6M1bObxPfV8FSwz8/IrnwwdWCjNtPZ0/5u//X9XHjKsZ+4Xjo5OP/3jufGJls6OO4ee63hyb5VfLZfJPZ3kzqps31lJcYIbtFCamXn5lWheRwihpbMj+nSOjY8+cr0T4hdKM7P5ExfeGK3cvqm1p3vTE3syj+9xgKr+pp/+cemlV0IIHU/uvXPouWVpJpL7Qmnm46d/HB2KNo2nRuSeTnJnJdt3rmgRuE5fnCt9MvST9zu3vBcy74XMb7PfLb34sy/Olary5J/+7X/6oO9Pomce77nnk6GfVOVpuRZfnCv9Nvud90Lm/c4t51782crvJpv7uRd/dnnR36nWclmUe1rJnZUSz50GpzjB9bl47PiZnnsqq9SLx47XaCm/zX63snq98HquFkthqbnTZz7oeyj6hX/2y1PLvtsguX/2y19Fw/ig76G502dqMYa0kXs6yZ2VGiR3GpniBNfqi3Olj596NlrZfdD3UI1WqUudfz1XWYl//NSzDjrWztzpM9GverznnmU7KI2W+1WGyvWSezrJnWUaLXcaluIE16Sy9Xq/c8v0vrqeXp/e95PKoSkbzlr44lypcux52W+4MXOvjOqDvodsbm+Y3NNJ7izTmLnTmBQniHfx2PFoxvOqkzrqYOlq/bzT+tUWXeewcrvVyLlXvvXb7HfqP7DmIPd0kjtLNXLuNCDFCWKUXvryCt2PHv/LBI/2fXGu9LvLEwlKLy2/jpkb9snQT1bdi2r83Cub24+fejap4a3o5szhAAAdAUlEQVRdck8nubNU4+dOo1Gc4Gqirex7IVPn0/dXUjmt7248VVHZai470LhWcv/sl7+KjpXa1l4XuaeT3FlqreROQ1Gc4IoqW9kGWatGKutW286bNHf6TLQXsuxOxGsr9+iexe93bjE//hrJPZ3kzlJrK3cah+IEqzv/eq4B16qRyrr14rF/Snosa1g07+WjJ/5y6YNrMfdojscHfQ8lNbC1Re7pJHcq1mLuNAjFCVZROTbZgGvVSLRuddzxhlUudVg6r32N5v7FuVK0UzhtgkccuaeT3KlYo7nTIBQnWK6yWfrdkw19De5Hjw+u3BXgWsydPhMd0jv/+mjlwTWd+8Vj/2RDG0vu6SR3KtZ07jSClgB81bn9B+bGJ1p7uu8cei7psVzN1176m7ae7vnxiXP7DyQ9ljXmk/0HQgiZJ/ZsfPSRyoNrOvf27M7ME3sWSjMfP/1sgmNrcHJPJ7lTsaZzpxGsW1xcTHoM0EAuHH3zwx/sDiFsPf3r1p7upIcT49LYqcmHH1kozXQde7M9uzPp4awN8+MTZ7Z9M3w14ibIfX584oM//BNvhiuRezrJnYomyJ3EOeMEXzH99LMhhDv2Pdf4a9UQwvq++zqe2htC+Ncf/tVCaSbp4awN0eHnZRE3Qe6tPd3Rg45Qrkru6SR3Kpogd5KX9FxBaCCVC4iTHsj1+aDvIRcKX6PoaodlH3/ZNLl/ca4UXfTsdkzLyD2d5E5F0+ROspxxgi/Nj0+UXz0UQvjai3+T9Fiuz10v/jSEMPPSKw5KxYoOP7dnd1aOODZT7i2dHdERyvJrh5McWeORezrJnUgz5U6yFCf4Uvm1Q3PjE+3ZnUsvIF4T2rM727M7FkozpZdfSXosDa2y7bxz3+8vC26y3Duf3BtCuHB01Fa2Qu7pJHcqmix3EqQ4wZeiTewd+xr6TjtXEg3bQamrm80fDyFsfLR/6QT3Jsu9pbMj2sp++tqhRIfWQOSeTnKnoslyJ0GKE4QQQvnVQ3PjE+v77m3P7kh6LDeiclDK5vMqyq8dCiFs/P7vjzg2Ze4dT+4NIVw8OprcuBqL3NNJ7kSaMneSojhBCJc3sdEWaI3a8Gh/sPm8svnxidn8iZbOjswTeyoPNmXu7dmdLZ0ds/kTDk8GuaeV3KloytxJiuIEq29i15xNj++x+byKaN7O0k/DaNbcWzo7opfp8GSQe1rJnUiz5k5SFCf4/VT4pAdyU1o6O6KXYPO5qgtvvBm+Om+niXO/LbsjhPBZ/kRiw2oYck8nuRNp4txJhOIEX57Hv/37a+xmOyu1f3tHcDb/ClYegW7i3G//fn+4/JJTTu7pJHciTZw7iVCcIMzmT4QQbluyiV2joiNSl8becTZ/meh30tLZsfT+Wk2ce2tPd0tnx0JpZn58ItGhJUzu6SR3Kpo4dxKhOJF20Vp1fd+9LZ0dSY/lZrV0drRt7V4ozczZfH7V/JkzIYT1ffdVHmn63KNj7bNvpfogtNzTSe5Emj536k9xIu0u/epUCOHWJZvYNe22h20+V3Fp7J1w+UqALx9p9tyjY+0p38TKPZ3kTqTpc6f+FCfSYnZ29uzZsysfj+Y23Np3b91HVBPRC1k2YePs2bOzs7MJjaghfD72Tgihbcm8nabPff39q7wTIul5P8h9KbnLPW2aPnfqT3EiLaanp8fGxorF4rLHPx87FUJYf39NjkiVy+VCoTA1NbX0kVwuVygUarG4cHlfYemKtVgsjo2NTU9P12iJqyoWi7lcrp5LvLqFUimE0Lp1a+WRmuZeUYm7XC7XdEErc2/t2RpW28TW7f3QCO+BZHPP5/NL//ZrQe6rSiT3wgq1W1YD5r50iYm/ASrq9vdeKBQS+Xun/lqTHgDUyZYtWy5evBgVp97e3srj0XWWtZgAfeTIkZGRkXK5PDAwMDAwEEIYGRkZGRmJvtvV1XXw4MHNmzdXd6HRFuLS2Knoy2KxWCwWe3t7t2zZUt0FXV25XK71JuS6zJ+eCF9NuXa5Vxw5cmR4eDj6/66urueff37pG6+6luUeLm9i58bPLP1n9Xw/NMJ7IKncoz/86Mtnnnlm9+7dNVqW3FdV/9wnJycHBweXPXjy5MkaLa4Bc69ohDdARR3+3qempgYGBiovuc5/79SfM06kSG9vb29vb7QtqTy4cG4mhHBLtVes+Xx+eHh46Y7y1NTUyMhI1JeeeeaZycnJoaGh6i50mcpWs3b769cul8ut3LEIIQxetmvXrpXnA6vli5mZ8NWpOzXKvWJqamp4eLirq+vw4cMHDx4sl8urvvx6Svz9UP/3QP1zDyEMDw9nMpnDhw/ncrlMJlM5VpIUuYfa557JZA5eNjQ0lMlkurq6arSsa5R47hUJrvzr8PcetaaBgYHoSOjw8HCt5xeQLGecSJdoE7L0vNPcmYlw+craKoq2oyGEygbj8OHDIYS/+Iu/2L59+/bt2/P5fKFQiDZsVVxu6+VT+bXYak5NTZ08ebKrq2v79u1LH69MzMhms5lMZtWfHR0dDSEUCoVlPxv9lgqFQi6Xq90GfuVxxxrlXvHuu++GEHbv3h29qGw2G83ZW/byq6V1lak7X3mkWu+HtfUeqH/uIYRMJnP77bdHL6S3t7emU7bkvqr6557JZCqvLjrf+KMf/ahGywp1zL1ibb0BKmqde7FYnJqa6u/v371799TUVK0Phq7MnfpTnEiL6enpDz/8cG5uLrpMtlgstrW1bdu2rUaLi7YQS/eZolP5lcOQ0R5V1YtT5OPd/8fvisW2trbp6em33377xp7knnvu2bRpU+XLcrk8PDzc398/PDw8NDS0ctgvvPDCAw88sOq2M3rtAwMD+Xx++/btU1NTk5OTIYTe3t5MJhOdi1u5yfn0009/85vf3NjgK77+9a/XLuWriH4P+Xx+9+7d5XI5mrST1AyWaC/qBt4Pa/c9kFTuIYSBgYHDhw9HR0yKxeIzzzyTyDCC3JMwNTWVy+W6urp27dqV1BhuOPeKtfsGqKjPOyF6LZlM5nvf+150omlgYKBGR8doEKbq0eTm5+eLxeIvfvGLt99++/Tp05988kkIobW1NYQwNzdX//FUilO0jbn99ttrsZRbLl4I1X6BmUymv78/qoLFYnFkZGRwcDDa4EUTLQYGBq50ydbJkyejbW106HFycnLpxdMjIyP9/f1Vv9wrWdF5xUKh8PDDD3/ve9+70rHY+mhrawvVeD94D1yLcrl8/vz5aC+qXC4nOG9H7vWXy+Wmpqb+4i/+IsExVCv3Cm+AK4n+ut96663nn3/+8OHDmzdvHhkZqd2ccxqBM040sw8//HBsbGx+fv6uu+7q7e3dtGlTW1tbsVicnp6u/8zvaNvw7rvvRv8TrVtrtD99xxu/2PT//N/FYjF64VV5zkKhMDo6um/fvuiajeh2F5EjR46EEK5yReyRI0ey2WyhUIjOs0WlIvpWLpdbXFxc9ejspk2bHnzwwaoMPhEHDx6M9qK2b98+OjpaLBaT2j/Ytm3b3Nzczb8fvAdiFQqFaF8w2q3867/+65GRkaUvtp7kXmeNcLopVC/3Cm+AK4m24L29vdGL2rVrV1ScEr+ujNpxxommVSwWT548uWHDhgcffPDBBx+86667ota0bOZ329Y6TRrOZrPh8mZmamqqUCisnC9+86IX0trTveqdMG5Gb29vNGFj2TUb0YPFYnFwcDCfz6/8wWKxmMlkBi6LfgMV0WYmukS4dgfqVqZc69yLxeIDDzwwOjo6MDDQ1dW16uUBVVTJvfLIsss8qvJ+WHPvgfrnHk3dOX/+fPRltF9Vu5NOcl9V/XOP1O10U31yr1hzb4CKWue+ffv2TCZTLBajv/HoVdTuANnK3Kk/Z5xoTtEGY9u2bffcc8+yB5O6y9DSuVshhOg25VVfyhel399EaOWdMG5GdLuLcrm87CxZJpO5+l13e3t7o4uAw+VfwtLvNs4nflRXb2/vrl27crncAw88ED3y/PPP125xS3OPzI0vvyPzzb8fvAdiZbPZkZGRfD7/2GOPhRCiFU500KQW5N446nm6qT65V3gDXElUC4eHh7/3ve+FEMrl8u7du2t3gGxl7tSf4kQTOnv27MrWFD24sjXd+of3zZ2Z+HzsVC2O4nR1dS29VDSau/XWW2/dfvvtu3btqsXq9fJxx87oy8q2c8OGDVX5KI9rnFuYyWSSvapnmdZt3XNnJubGJyop1zT3yL59+/7oj/6oUChkMplsNlvTyVrLcq880tazdek/q8r7YQ29B+qfeyaTyeVyuVwuOgi9a9eu/v7+WiwoIvdVJfL3HkKo0Vp9pXrmXrGG3gAVdcg9unVqPp8vl8vbt2+vaW1emTv1pzjRbGZnZ99999329valrSmEcOedd/b19a3ceETr08/PTGyowWA2b9687LTSrl27arpivfSrUyGEW/vurTzS29u7YcOGO++8s3YLXakRPjxkqdaerSGcmD9zJoQdlx+pYe4VtY67YmXu8+Nnwmqf/Fi390MjvAcSzL2WT/97cl9VIrmvXNvXTgPmvnSJib8BKurz9163ixhX5k79ucaJZvPBBx/Mzs6uvK70Sofcvlyxjr1Tj8HVXvRClh1d27Jly4YNNd1wNLroF3JpScpNn3v0ASarbmLT836Q+1Jyl3vaNH3u1J/iRLP54IMPrms70f7tnSGE2fzxWg6qfj4fOxVCWH//fUkPpLGsvES46XP/LH88hHDb/ak+Nin3dJI7kabPnfpTnGgq09PTs7Oz13VPm7ae7pbOjvnxiWj28Jq2UJqJDrK2Z3ckPZbG0p5dvvls+tyjR2756jUPaSP3dJI7kabPnfpTnGgq09PTIYS77rrr2n+kpbNjfd+9IYQLb4zWalj1MvvW8XB5p4GlWnu6Wzo7FkozlYPQzZ17tKNQeY2pJfd0kjuR5s6dRChONJWZmZlNmza1tl7fXU82PNofQpjNn6jNoOrnwtE3QwiZxx9LeiCNKNrenF+y+Wzi3KNj7TaxQe5pJXciTZw7iVCcaCrz8/NtbW3X+1ObHt8TQrhwdHStn82/cHQ02HxewW3ZHSGEz5ZsPps49wtvvBlC2Pj9RxIbU8OQezrJnUgT504iFCcILZ0d7dkdC6WZT187lPRYblz51UMLpZn27E633FlVtPmczR+vbD6bOHdHoCvknk5yJ9LEuZMIxQlCuHw2/+LRNTwNeublV4Lz+FdW2Xx+tuSS8abM3SZ2Kbmnk9ypaMrcSYriBCGEsOnxPS2dHbP5E2v0vqWz+ROXxt5p7enOPLEn6bE0rmjzWXr5lcojTZl7NG/HJrZC7ukkdyJNmTtJUZwghBBaOjs6ntobQji3/0DSY7kR5/b/JISQedxa9Woqm8+ls3eaLPf58QlT4ZeRezrJnUjz5U6CFCf4UueTe9foQakLR9+czZ9o7ene5HDUVbV0dmxccRC6yXL/ZP+BEELmiT3m7VTIPZ3kTkWT5U6CFCf4UuWg1PTTP056LNdn+ulnQwiZx20740UTWmZeemXlQegmyH1+fCK6ouPOfc8lObLGI/d0kjuRZsqdZClO8HudT+5t6+m+NPbOJ2vnhP65/Qfmxidae7rvHLLtjNee3RldMr7sIHRz5F5+7dDc+ITDzyvJPZ3kTkXT5E6y1i0uLiY9Bqiat99+O4Tw4IMP3vAzzOaPTz78SEtnR9exN9f33Ve9odXE/PjEmW3fDCF8/fUjGx/1IR7XpBLx3b/858oORxPkXnlw6+lf25FaSe7pJHcqmiB3EueME3xFe3Znx1N7F0ozH/7gsQb/vLyF0szkw98NIXQ8udda9dq1Z3dufPSRhdLM0uOOTZC7qx2uTu7pJHcqmiB3krcITeRf/uVf/uVf/uUmn+SLc6UzPfe8FzIfPTFYlVHVyMdPPfteyIz33PPFuVLSY1lj5k6feb9zy3shc/HYP1UeXNO5n3999L2QeS9k5k6fSXBsDU7u6SR3KtZ07jQCZ5xguZbOjq5jP2/p7Ci/erhh7156bv+B0kuvtHR2/MGxn7d0diQ9nDWmtac7ulD4X3/4V0uvGl+juS+UZqILiO/Y95zDz1ch93SSOxVrN3caRdLNDaqpKmecIheP/VN0SO+ToZ9U5Qmr6JOhn0RjO/96LumxrGEf9D30Xsh8/NSzSx9ci7l/9MRfRscmkxrY2iL3dJI7FWsxdxrELUNDQ0l3N6ias2fPhhDuvvvum3+qtp6tLZ0ds3//D7P5E+vWNdDHC57bf+CToQMhhLte/KkPdrgZG/78fyu/dmg2f+KWOzpu+9YfRw+uudxnXn6l9NMXWzo7trz9j45NXgu5p5PcqVhzudM4FCeaShWLUwgh2rh+9taJxlm3Vtaqd+x77o4f/yjp4axtLZ0d6267bfbv/+Gz//bfN/z5n7V+/d9Gj6+h3C+NvfPhDx4LIdx5YP+GP/+zxMa3psg9neTOUmsodxpL0qe8oJqqOFWv4tyLP4vOm3/81LMJXqb5xblSNEPjvZA59+LPkhpG8/nd5Wtwl11m3fi5z50+E13lPL2v4WabND65p5PcWarxc6fRKE40lVoUp8XFxfOv56KbMq3c3NbHZ788FW0y3+/ccvHY8foPoLn9NvudVcNt5Nwre1G/zX63/gNrDnJPJ7mzVCPnTgNSnGgqNSpOi0u2W/W/nPSToZ8ku1pvel+cK0UXjq/8DTdm7pVRfdD3kJvV3jC5p5PcWaYxc6cxKU40ldoVp8XFxS/OlaJpHtE67kLt73hz8djxaAP/Xsj87skkJxI0vcqGc+XWq9Fyv8pQuV5yTye5s0yj5U7DUpxoKjUtTpHzr+cqh6Z+m/1OjU6sXzx2PJpPEq3Enb6vg7nTZyrHoT/75a+WfbdBcq9M6vig7yF7UVUh93SSOys1SO40MsWJplKH4hSZ3veTyur1g76HPn31P1Xlab84Vyq99LPKKvX9zi3T+37iQFTdfHGuVPnll15a5QrdZHMvvfSzaFLHb7Pf9a6oIrmnk9xZle07V7FucXEx6Rv7QdW8/fbbIYQHH3ywDsuaH5/49NVD5187NDc+EUJo6ezY+Gj/xu/3t2d3XO/HayyUZi4cfXP2rX+6cPTN6IPtWzo7Op7c2/nUXp/UUX+fDB2IPlE+88Ser73402URJJL7Qmkm+iz5EELHk3u/9tJPb/I1spLc00nurGT7zpUoTjSVehanivKrh8qvHZ7NH688sr7v3lv77lvfd++t99/X0tlxS2dHa0935bvz4xMhhEtj78yfOXNp7NRn+RPRqjnSnt258fuPZJ7YY5WaoNJLr5zbf2ChNNPa0/2/vPjTDY/2r/w3dct9Nn/idz/8y7nxiZbOjjv2Pdf51N4qv1ouk3s6yZ0rsX1nGcWJppJIcYrMj0/M5o8vW8Neo5bOjvV991mfNpT58YnJh78bbfMyT+y5c99zS7eOS/9Z7XKfH5/4ZP+B8quHQgjr++79+utHVh0DVST3dJI7V2H7ToXiRFNJsDgtNZs/8fnYqfkzE5fG3lkozSyUZubGz1S+29azNYRwa9+9bT3drVu7b8vubOvptj5tTJVpPCGEO4eeyzy+5yq7MlXMfaE0M/PyK6WXXlkozUTzOu4ceq6qr4yrkXs6yZ1Ytu8ppzjRVBqkONFMlh4Gbu3pbs/uvNLR6KpYugsVQtj4aP/XXvypA8/1J/d0kjtwFYoTTaWRi9P777+/bt26bdu2JT0QbsTS3akQwsZHH9n4aH/m8T3Vev6F0sxs/sTMyz+bzZ+IHmnP7rxj33Pt2R3VWgQ3QO7pJHdgVYoTTaWRi1Mjj41rtGx3qqWzoz27Y+Oj/e3f3nljB4nnxycuvDE6mz8+mz9RueFStItmF6pxyD2d5A4sozjRVBq5nDTy2Lguq14o3NLZsb7v3tuyO9u2bm3t6W7p7Fg2tT2629Lc+MT8+MTnvzo1N36msvMUccOlBif3dJI7UKE40VQauZw08ti4MdEe1YU33pzNH1+6S3TtWjo72rM727+9w/7TGiL3dJI7oDjRVBq5nDTy2Lh5l8bemR+fuPSrU5+PvbNQmpkfn/iiVFq6dxXdbam1pzv6r23r1vbsDleBr3VyTye5QzopTjSVRi4njTw2AACuriXpAQAAADQ6xQkAACCG4gQAABBDcQIAAIihOMHqisViLpdLehQAADQExYmm0traevHixao8VblcnpqaqspTRebm5tra2qr4hAAA1E1r0gOAarrrrrs++uij6enpu+66q+pPnsvlRkdHDx48uOzxwcHB6H8mJyeHh4d7e3tX/uzs7Oynn3767/7dv6v6qAAAqAPFiaZy9913nz59emxs7KGHHmpvb1/5D6ampk6ePNnV1bV9+/alj1dm5WWz2Uwms+qTj46OhhAKhcKyn42qVKFQyOVyq7am6enpsbGx9vb2LVu23NDLAgAgYabq0VTa2tqiT5j9r//1vx4/fvzTTz9d+t1yuTw8PJzJZIaHh4vF4soff+GFF86fP7/qM0fT9gYGBvL5fPRloVAoFArlcjn6cmRkpHLqqeLTTz/9x3/8Rx99CwCw1ilONJsNGzb86Z/+aV9f38ozTplMpr+/v1AohBCKxWJUdYaGhkIIu3btKhaLAwMDmzdvXvVpT548GZ1Nis47TU5ORsUp+u7IyEh/f/+qP7tp06Z77rnnP/yH/7Bhw4aqvUgAAOrLVD2a05YtW1bOiysUCqOjo/v27RsZGQkhDAwMVL515MiREMLu3buv9IRHjhzJZrOFQqG3tzearVeZsJfL5RYXF3ft2rXypzZt2vTAAw/c/MsBACBZzjiRIr29vdFsvcqZokj0YLFYHBwcjGbiLVMsFjOZzMBlUcuqGBkZiX52cHBw1RmAAACsdesWFxeTHgPUVblcvtLtH5aKZuItPSsFAEBqOeNE6lxLa4r+2TX+SwAAmp4zTgAAADGccQIAAIihOAEAAMRQnAAAAGIoTgAAADEUJwAAgBiKEwAAQAzFCQAAIIbiBAAAEENxAgAAiKE4AQAAxFCcAAAAYihOAAAAMRQnAACAGIoTAABADMUJAAAghuIEAAAQQ3ECAACIoTgBAADEUJwAAABiKE4AAAAxFCcAAIAYihMAAEAMxQkAACCG4gQAABBDcQIAAIihOAEAAMRQnAAAAGIoTgAAADEUJwAAgBiKEwAAQAzFCQAAIIbiBAAAEENxAgAAiKE4AQAAxFCcAAAAYihOAAAAMRQnAACAGIoTAABADMUJAAAghuIEAAAQQ3ECAACIoTgBAADEUJwAAABiKE4AAAAxFCcAAIAYihMAAEAMxQkAACCG4gQAABBDcQIAAIihOAEAAMRQnAAAAGIoTgAAADEUJwAAgBiKEwAAQAzFCQAAIIbiBAAAEENxAgAAiKE4AQAAxFCcAAAAYihOAAAAMRQnAACAGIoTAABADMUJAAAghuIEAAAQQ3ECAACIoTgBAADEUJwAAABiKE4AAAAxFCcAAIAYihMAAEAMxQkAACCG4gQAABBDcQIAAIihOAEAAMRQnAAAAGIoTgAAADEUJwAAgBiKEwAAQAzFCQAAIIbiBAAAEENxAgAAiKE4AQAAxFCcAAAAYihOAAAAMRQnAACAGIoTAABADMUJAAAghuIEAAAQQ3ECAACIoTgBAADEUJwAAABiKE4AAAAxFCcAAIAYihMAAEAMxQkAACCG4gQAABBDcQIAAIihOAEAAMRQnAAAAGIoTgAAADEUJwAAgBiKEwAAQAzFCQAAIIbiBAAAEENxAgAAiKE4AQAAxFCcAAAAYihOAAAAMRQnAACAGIoTAABADMUJAAAghuIEAAAQQ3ECAACIoTgBAADEUJwAAABiKE4AAAAxFCcAAIAYihMAAEAMxQkAACCG4gQAABBDcQIAAIihOAEAAMRQnAAAAGIoTgAAADH+f0sEQsQ+b72JAAAAAElFTkSuQmCC)\n",
        "\n",
        "O 10º estado do autômato (sumidouro) não está representado explicitamente no código, mas todas as transições que caminham até ele vão para o estado ERR, travando o autômato.\n"
      ],
      "metadata": {
        "id": "Z79kZKhe-sdu"
      }
    },
    {
      "cell_type": "code",
      "source": [
        "\"\"\"\n",
        "  * Descricao: Realiza a analise lexica de uma palavra usando o automato que reconhece a linguagem das senhas com 6 a 8 letras maiusculas e/ou minusculas\n",
        "  * Parametros: Uma palavra de entrada\n",
        "  * Retorno: -\n",
        "\"\"\"\n",
        "def run_password_example(word):\n",
        "  alphabet = list(string.ascii_lowercase) + list(string.ascii_uppercase)\n",
        "  initial_state = 1\n",
        "  states = [1, 2, 3, 4, 5, 6, 7, 8, 9]\n",
        "  final_states = [7, 8, 9]\n",
        "  delta = {}\n",
        "\n",
        "  for state in states:\n",
        "    for char in alphabet:\n",
        "      if state == 9:\n",
        "        delta[(state, char)] = ERR\n",
        "      else:\n",
        "        delta[(state, char)] = state + 1\n",
        "\n",
        "  print(lexical_analyzer(word, initial_state, final_states, delta))"
      ],
      "metadata": {
        "id": "zWJx2bjO-wji"
      },
      "execution_count": null,
      "outputs": []
    },
    {
      "cell_type": "markdown",
      "source": [
        "# 📍 Programa principal\n"
      ],
      "metadata": {
        "id": "Q_A9ug3D-9nA"
      }
    },
    {
      "cell_type": "markdown",
      "source": [
        "Execute normalmente o programa principal, podendo escolher entre criar um novo autômato ou usar os dois autômatos de exemplo:"
      ],
      "metadata": {
        "id": "FiD4JsE5lVHE"
      }
    },
    {
      "cell_type": "code",
      "source": [
        "if __name__ == '__main__':\n",
        "  choice = int(input(\"\\nVoce gostaria de inserir um novo automato ou utilizar o exemplo de automato pre salvo? \\n1 - Criar novo automato \\n2 - Executar com automato que reconhece a linguagem dos numeros de telefone com 9 digitos, comecando por 9 \\n3 - Executar com automato que reconhece a linguagem das senhas com 6 a 8 letras maiusculas e/ou minusculas \\nSua escolha:\"))\n",
        "  word = input(\"Digite uma palavra: \")\n",
        "\n",
        "  if choice == 1:\n",
        "    run_automata(word)\n",
        "  elif choice == 2:\n",
        "    run_phone_number_example(word)\n",
        "  elif choice == 3:\n",
        "    run_password_example(word)"
      ],
      "metadata": {
        "colab": {
          "base_uri": "https://localhost:8080/"
        },
        "id": "iQXeTYB1-6LD",
        "outputId": "277f941e-4807-4058-dc62-fae4454f4a97"
      },
      "execution_count": null,
      "outputs": [
        {
          "output_type": "stream",
          "name": "stdout",
          "text": [
            "\n",
            "Voce gostaria de inserir um novo automato ou utilizar o exemplo de automato pre salvo? \n",
            "1 - Criar novo automato \n",
            "2 - Executar com automato que reconhece a linguagem dos numeros de telefone com 9 digitos, comecando por 9 \n",
            "3 - Executar com automato que reconhece a linguagem das senhas com 6 a 8 letras maiusculas e/ou minusculas \n",
            "Sua escolha:2\n",
            "Digite uma palavra: 977564830\n",
            "('Valida', 'Lexema: 977564830')\n"
          ]
        }
      ]
    }
  ]
}